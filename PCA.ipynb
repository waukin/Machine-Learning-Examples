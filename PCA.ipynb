{
 "cells": [
  {
   "cell_type": "code",
   "execution_count": 2,
   "metadata": {},
   "outputs": [],
   "source": [
    "import numpy as np\n",
    "import pandas as pd\n",
    "import matplotlib.pyplot as plt\n",
    "from sklearn.preprocessing import StandardScaler\n",
    "from sklearn.decomposition import PCA"
   ]
  },
  {
   "cell_type": "code",
   "execution_count": 3,
   "metadata": {},
   "outputs": [
    {
     "data": {
      "text/html": [
       "<div>\n",
       "<style scoped>\n",
       "    .dataframe tbody tr th:only-of-type {\n",
       "        vertical-align: middle;\n",
       "    }\n",
       "\n",
       "    .dataframe tbody tr th {\n",
       "        vertical-align: top;\n",
       "    }\n",
       "\n",
       "    .dataframe thead th {\n",
       "        text-align: right;\n",
       "    }\n",
       "</style>\n",
       "<table border=\"1\" class=\"dataframe\">\n",
       "  <thead>\n",
       "    <tr style=\"text-align: right;\">\n",
       "      <th></th>\n",
       "      <th>food</th>\n",
       "      <th>Protein</th>\n",
       "      <th>fat</th>\n",
       "      <th>Vitamin C</th>\n",
       "      <th>Fiber</th>\n",
       "    </tr>\n",
       "  </thead>\n",
       "  <tbody>\n",
       "    <tr>\n",
       "      <th>0</th>\n",
       "      <td>Beef</td>\n",
       "      <td>19.42</td>\n",
       "      <td>12.73</td>\n",
       "      <td>0.0</td>\n",
       "      <td>0.0</td>\n",
       "    </tr>\n",
       "    <tr>\n",
       "      <th>1</th>\n",
       "      <td>Borage</td>\n",
       "      <td>1.80</td>\n",
       "      <td>0.70</td>\n",
       "      <td>35.0</td>\n",
       "      <td>0.0</td>\n",
       "    </tr>\n",
       "    <tr>\n",
       "      <th>2</th>\n",
       "      <td>Cabbage</td>\n",
       "      <td>1.28</td>\n",
       "      <td>0.10</td>\n",
       "      <td>36.6</td>\n",
       "      <td>2.5</td>\n",
       "    </tr>\n",
       "    <tr>\n",
       "      <th>3</th>\n",
       "      <td>Chard</td>\n",
       "      <td>1.80</td>\n",
       "      <td>0.20</td>\n",
       "      <td>30.0</td>\n",
       "      <td>1.6</td>\n",
       "    </tr>\n",
       "    <tr>\n",
       "      <th>4</th>\n",
       "      <td>Chicken</td>\n",
       "      <td>17.44</td>\n",
       "      <td>8.10</td>\n",
       "      <td>0.0</td>\n",
       "      <td>0.0</td>\n",
       "    </tr>\n",
       "  </tbody>\n",
       "</table>\n",
       "</div>"
      ],
      "text/plain": [
       "      food  Protein    fat  Vitamin C  Fiber\n",
       "0     Beef    19.42  12.73        0.0    0.0\n",
       "1   Borage     1.80   0.70       35.0    0.0\n",
       "2  Cabbage     1.28   0.10       36.6    2.5\n",
       "3    Chard     1.80   0.20       30.0    1.6\n",
       "4  Chicken    17.44   8.10        0.0    0.0"
      ]
     },
     "execution_count": 3,
     "metadata": {},
     "output_type": "execute_result"
    }
   ],
   "source": [
    "# 讀取食物營養成分資料\n",
    "food = pd.read_csv('food_table.csv')\n",
    "food.head()"
   ]
  },
  {
   "cell_type": "code",
   "execution_count": 5,
   "metadata": {},
   "outputs": [
    {
     "data": {
      "text/plain": [
       "PCA(copy=True, iterated_power='auto', n_components=4, random_state=None,\n",
       "  svd_solver='auto', tol=0.0, whiten=False)"
      ]
     },
     "execution_count": 5,
     "metadata": {},
     "output_type": "execute_result"
    }
   ],
   "source": [
    "# 將dataframe轉成numpy array\n",
    "food_array = food.values[:,1:5].astype(float)\n",
    "\n",
    "# 標準化\n",
    "std = StandardScaler()\n",
    "food_number_std = std.fit_transform(food_array)\n",
    "\n",
    "# PCA\n",
    "pca = PCA(n_components=4)\n",
    "pca.fit(food_number_std)"
   ]
  },
  {
   "cell_type": "code",
   "execution_count": 6,
   "metadata": {},
   "outputs": [
    {
     "data": {
      "text/html": [
       "<div>\n",
       "<style scoped>\n",
       "    .dataframe tbody tr th:only-of-type {\n",
       "        vertical-align: middle;\n",
       "    }\n",
       "\n",
       "    .dataframe tbody tr th {\n",
       "        vertical-align: top;\n",
       "    }\n",
       "\n",
       "    .dataframe thead th {\n",
       "        text-align: right;\n",
       "    }\n",
       "</style>\n",
       "<table border=\"1\" class=\"dataframe\">\n",
       "  <thead>\n",
       "    <tr style=\"text-align: right;\">\n",
       "      <th></th>\n",
       "      <th>content</th>\n",
       "      <th>pc1</th>\n",
       "      <th>pc2</th>\n",
       "      <th>pc3</th>\n",
       "      <th>pc4</th>\n",
       "    </tr>\n",
       "  </thead>\n",
       "  <tbody>\n",
       "    <tr>\n",
       "      <th>0</th>\n",
       "      <td>Protein</td>\n",
       "      <td>0.535869</td>\n",
       "      <td>0.371633</td>\n",
       "      <td>-0.029084</td>\n",
       "      <td>-0.757554</td>\n",
       "    </tr>\n",
       "    <tr>\n",
       "      <th>1</th>\n",
       "      <td>fat</td>\n",
       "      <td>0.502184</td>\n",
       "      <td>0.580700</td>\n",
       "      <td>-0.013782</td>\n",
       "      <td>0.640631</td>\n",
       "    </tr>\n",
       "    <tr>\n",
       "      <th>2</th>\n",
       "      <td>Vitamin C</td>\n",
       "      <td>-0.483022</td>\n",
       "      <td>0.484500</td>\n",
       "      <td>-0.725363</td>\n",
       "      <td>-0.076145</td>\n",
       "    </tr>\n",
       "    <tr>\n",
       "      <th>3</th>\n",
       "      <td>Fiber</td>\n",
       "      <td>-0.476808</td>\n",
       "      <td>0.538456</td>\n",
       "      <td>0.687614</td>\n",
       "      <td>-0.099527</td>\n",
       "    </tr>\n",
       "  </tbody>\n",
       "</table>\n",
       "</div>"
      ],
      "text/plain": [
       "     content       pc1       pc2       pc3       pc4\n",
       "0    Protein  0.535869  0.371633 -0.029084 -0.757554\n",
       "1        fat  0.502184  0.580700 -0.013782  0.640631\n",
       "2  Vitamin C -0.483022  0.484500 -0.725363 -0.076145\n",
       "3      Fiber -0.476808  0.538456  0.687614 -0.099527"
      ]
     },
     "execution_count": 6,
     "metadata": {},
     "output_type": "execute_result"
    }
   ],
   "source": [
    "pca_w = pd.DataFrame()\n",
    "pca_w['content'] = food.columns[1:]\n",
    "pca_w['pc1'] = pca.components_[0]\n",
    "pca_w['pc2'] = pca.components_[1]\n",
    "pca_w['pc3'] = pca.components_[2]\n",
    "pca_w['pc4'] = pca.components_[3]\n",
    "pca_w"
   ]
  },
  {
   "cell_type": "code",
   "execution_count": 9,
   "metadata": {},
   "outputs": [
    {
     "data": {
      "image/png": "[encoded data removed]",
      "text/plain": [
       "<Figure size 720x432 with 1 Axes>"
      ]
     },
     "metadata": {
      "needs_background": "light"
     },
     "output_type": "display_data"
    }
   ],
   "source": [
    "# 變異解釋百分比\n",
    "ratio = pca.explained_variance_ratio_\n",
    "plt.style.use('seaborn-bright')\n",
    "fig = plt.figure(figsize=(10,6))\n",
    "ax = fig.add_subplot(111)\n",
    "\n",
    "# 設置x, y軸\n",
    "xx = [1, 2, 3, 4]\n",
    "x_trick = ['PC1', 'PC2', 'PC3', 'PC4',]\n",
    "ax.set_xticks(xx)\n",
    "ax.set_xticklabels(x_trick)\n",
    "\n",
    "plt.plot(xx, ratio, c='#AAAAAA', lw=3)\n",
    "plt.scatter(xx, ratio, marker='o', c='#AAAAAA', s=120)\n",
    "\n",
    "# 設置坐標軸的字體大小\n",
    "plt.rc('xtick', labelsize=18)\n",
    "plt.rc('ytick', labelsize=18)\n",
    "\n",
    "# 坐標軸名稱\n",
    "plt.xlabel('Number of Components', fontsize=20)\n",
    "plt.ylabel('% of Data Spread Accounted', fontsize=15)\n",
    "plt.show()"
   ]
  }
 ],
 "metadata": {
  "kernelspec": {
   "display_name": "Python 3",
   "language": "python",
   "name": "python3"
  },
  "language_info": {
   "codemirror_mode": {
    "name": "ipython",
    "version": 3
   },
   "file_extension": ".py",
   "mimetype": "text/x-python",
   "name": "python",
   "nbconvert_exporter": "python",
   "pygments_lexer": "ipython3",
   "version": "3.7.1"
  }
 },
 "nbformat": 4,
 "nbformat_minor": 2
}
